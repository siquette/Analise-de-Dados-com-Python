{
 "cells": [
  {
   "attachments": {},
   "cell_type": "markdown",
   "metadata": {},
   "source": [
    "1.0. O problema de\n",
    "negócio.\n",
    "https://sejaumdatascientist.com/os-5-projetos-de-data-science-que-fara-o-recrutador-olhar-para-voce/\n",
    "\n",
    "\n",
    "https://www.kaggle.com/harlfoxem/housesalesprediction\n",
    "\n",
    "\n",
    "- EMPRESA: House Rocket\n",
    "- MODELO DE NEGÓCIO: Compra casas com preço baixo e revendo com o preço mais alto.\n",
    "- QUAL O DESAFIO: Encontrar bons negócios dentro do portfólio disponível, ou seja, encontrar casas com preço baixo, em ótima localização eque tenham um ótimo potencial de revenda por um preço mais alto.\n",
    "\n",
    "\n",
    "1. Qual a data do imóvel mais antigo no portfólio?\n",
    "2. Quantos imóveis possuem o número máximo de andares?\n",
    "3. Criar uma classificação para o imóveis, separando-os em baixo e alto padrão, de acordo com preço.\n",
    "Acima de R$ 540.000 ->\n",
    "alto padrão\n",
    "Abaixo de R$ 540.000 ->\n",
    "baixo padrão\n",
    "4. Gostaria de um relatório ordenado pelo preço e contento as seguintes informações:\n",
    "id do imóvel \n",
    "data que o imóvel ficou disponível para compra,\n",
    "o número de quartos,\n",
    "o tamanho total to terreno,\n",
    "o preço,\n",
    "a classificação do imóvel\n",
    "( alto e baixo padrão )\n",
    "5. Gostaria de um Mapa indicando onde as casase stão localizadas geograficamento."
   ]
  },
  {
   "cell_type": "code",
   "execution_count": 6,
   "metadata": {},
   "outputs": [],
   "source": [
    "import seaborn as sns\n",
    "import pandas  as pd\n",
    "import numpy   as np\n"
   ]
  },
  {
   "cell_type": "code",
   "execution_count": 7,
   "metadata": {},
   "outputs": [
    {
     "name": "stdout",
     "output_type": "stream",
     "text": [
      "id                        int64\n",
      "date             datetime64[ns]\n",
      "price                   float64\n",
      "bedrooms                  int64\n",
      "bathrooms               float64\n",
      "sqft_living               int64\n",
      "sqft_lot                  int64\n",
      "floors                  float64\n",
      "waterfront                int64\n",
      "view                      int64\n",
      "condition                 int64\n",
      "grade                     int64\n",
      "sqft_above                int64\n",
      "sqft_basement             int64\n",
      "yr_built                  int64\n",
      "yr_renovated              int64\n",
      "zipcode                   int64\n",
      "lat                     float64\n",
      "long                    float64\n",
      "sqft_living15             int64\n",
      "sqft_lot15                int64\n",
      "dtype: object\n"
     ]
    }
   ],
   "source": [
    "data = pd.read_csv('/home/r_a_s/Documentos/ds/Análise de Dados com Python/m2/archive/kc_house_data.csv')\n",
    "\n",
    "\n",
    "#string para data\n",
    "data['date'] = pd.to_datetime(data['date'])\n",
    "\n",
    "print(data.dtypes) \n",
    "\n",
    "\n",
    "\n"
   ]
  },
  {
   "attachments": {},
   "cell_type": "markdown",
   "metadata": {},
   "source": [
    "1. Qual a data do imóvel mais antigo no portfólio?"
   ]
  },
  {
   "cell_type": "code",
   "execution_count": 8,
   "metadata": {},
   "outputs": [
    {
     "name": "stdout",
     "output_type": "stream",
     "text": [
      "               id       date      price  bedrooms  bathrooms  sqft_living  \\\n",
      "16768  5561000190 2014-05-02   437500.0         3       2.25         1970   \n",
      "9596    472000620 2014-05-02   790000.0         3       2.50         2600   \n",
      "9587   1024069009 2014-05-02   675000.0         5       2.50         2820   \n",
      "20602  7853361370 2014-05-02   555000.0         4       2.50         3310   \n",
      "11577  5056500260 2014-05-02   440000.0         4       2.25         2160   \n",
      "...           ...        ...        ...       ...        ...          ...   \n",
      "7898   1422700040 2015-05-14   183000.0         3       1.00         1170   \n",
      "928    8730000270 2015-05-14   359000.0         2       2.75         1370   \n",
      "5637   7923600250 2015-05-15   450000.0         5       2.00         1870   \n",
      "13053  5101400871 2015-05-24   445500.0         2       1.75         1390   \n",
      "16594  9106000005 2015-05-27  1310000.0         4       2.25         3750   \n",
      "\n",
      "       sqft_lot  floors  waterfront  view  ...  grade  sqft_above  \\\n",
      "16768     35100     2.0           0     0  ...      9        1970   \n",
      "9596       4750     1.0           0     0  ...      9        1700   \n",
      "9587      67518     2.0           0     0  ...      8        2820   \n",
      "20602      6500     2.0           0     0  ...      8        3310   \n",
      "11577      8119     1.0           0     0  ...      8        1080   \n",
      "...         ...     ...         ...   ...  ...    ...         ...   \n",
      "7898       7320     1.0           0     0  ...      7        1170   \n",
      "928        1140     2.0           0     0  ...      8        1080   \n",
      "5637       7344     1.5           0     0  ...      7        1870   \n",
      "13053      6670     1.0           0     0  ...      6         720   \n",
      "16594      5000     2.0           0     0  ...      8        2440   \n",
      "\n",
      "       sqft_basement  yr_built  yr_renovated  zipcode      lat     long  \\\n",
      "16768              0      1977             0    98027  47.4635 -121.991   \n",
      "9596             900      1951             0    98117  47.6833 -122.400   \n",
      "9587               0      1979             0    98029  47.5794 -122.025   \n",
      "20602              0      2012             0    98065  47.5150 -121.870   \n",
      "11577           1080      1966             0    98006  47.5443 -122.177   \n",
      "...              ...       ...           ...      ...      ...      ...   \n",
      "7898               0      1962             0    98188  47.4685 -122.282   \n",
      "928              290      2009             0    98133  47.7052 -122.343   \n",
      "5637               0      1960             0    98007  47.5951 -122.144   \n",
      "13053            670      1941             0    98115  47.6914 -122.308   \n",
      "16594           1310      1924             0    98115  47.6747 -122.303   \n",
      "\n",
      "       sqft_living15  sqft_lot15  \n",
      "16768           2340       35100  \n",
      "9596            2380        4750  \n",
      "9587            2820       48351  \n",
      "20602           2380        5000  \n",
      "11577           1850        9000  \n",
      "...              ...         ...  \n",
      "7898            2040        7320  \n",
      "928             1370        1090  \n",
      "5637            1870        7650  \n",
      "13053            920        6380  \n",
      "16594           2170        4590  \n",
      "\n",
      "[21613 rows x 21 columns]\n"
     ]
    }
   ],
   "source": [
    "print(data.sort_values('date', ascending=True))"
   ]
  },
  {
   "attachments": {},
   "cell_type": "markdown",
   "metadata": {},
   "source": [
    "2. Quantos imóveis possuem o número máximo de andares?"
   ]
  },
  {
   "cell_type": "code",
   "execution_count": 9,
   "metadata": {},
   "outputs": [
    {
     "name": "stdout",
     "output_type": "stream",
     "text": [
      "       floors          id\n",
      "875       3.5  6306400140\n",
      "10077     3.5  1972202010\n",
      "11594     3.5  3180100023\n",
      "14885     3.5  8673400177\n",
      "15424     3.5  1702900664\n",
      "18477     3.5  1346300150\n",
      "20308     3.5  1972200426\n",
      "20772     3.5  1972200428\n"
     ]
    }
   ],
   "source": [
    "#print(data['floors'].unique())\n",
    "\n",
    "print (data[data['floors']== 3.5][['floors','id']])"
   ]
  },
  {
   "attachments": {},
   "cell_type": "markdown",
   "metadata": {},
   "source": [
    "3. Criar uma classificação para o imóveis, separando-os em baixo e alto padrão, de acordo com preço.\n",
    "Acima de R$ 540.000 ->\n",
    "alto padrão\n",
    "Abaixo de R$ 540.000 ->\n",
    "baixo padrão"
   ]
  },
  {
   "cell_type": "code",
   "execution_count": 10,
   "metadata": {},
   "outputs": [],
   "source": [
    "data['level'] = 'standard'\n",
    "\n",
    "data.loc[data['price'] > 540000, 'level'] = 'higt_level' \n",
    "data.loc[data['price'] < 540000, 'level'] = 'low_level' \n"
   ]
  },
  {
   "cell_type": "markdown",
   "metadata": {},
   "source": []
  },
  {
   "attachments": {},
   "cell_type": "markdown",
   "metadata": {},
   "source": [
    "4. Gostaria de um relatório ordenado pelo preço e contento as seguintes informações:\n",
    "id do imóvel \n",
    "data que o imóvel ficou disponível para compra,\n",
    "o número de quartos,\n",
    "o tamanho total to terreno,\n",
    "o preço,\n",
    "a classificação do imóvel\n",
    "( alto e baixo padrão )"
   ]
  },
  {
   "cell_type": "code",
   "execution_count": 11,
   "metadata": {},
   "outputs": [
    {
     "name": "stdout",
     "output_type": "stream",
     "text": [
      "              id       date      price  bedrooms  sqft_lot       level\n",
      "7252  6762700020 2014-10-13  7700000.0         6     27600  higt_level\n",
      "3914  9808700762 2014-06-11  7062500.0         5     37325  higt_level\n",
      "9254  9208900037 2014-09-19  6885000.0         6     31374  higt_level\n",
      "4411  2470100110 2014-08-04  5570000.0         5     35069  higt_level\n",
      "1448  8907500070 2015-04-13  5350000.0         5     23985  higt_level\n"
     ]
    }
   ],
   "source": [
    "report = data[['id', 'date', 'price', 'bedrooms', 'sqft_lot', 'level']].sort_values('price', ascending=False)\n",
    "\n",
    "print( report.head())\n"
   ]
  },
  {
   "attachments": {},
   "cell_type": "markdown",
   "metadata": {},
   "source": [
    "5. Gostaria de um Mapa indicando onde as casase stão localizadas geograficamento."
   ]
  },
  {
   "cell_type": "code",
   "execution_count": 20,
   "metadata": {},
   "outputs": [],
   "source": [
    "import plotly.express as px\n",
    "\n",
    "data_mapa = data[['id', 'lat', 'long', 'price']]\n",
    "\n",
    "mapa = px.scatter_mapbox( data_mapa, lat= 'lat', lon='long', hover_name= 'id',hover_data= ['price'], color_discrete_sequence= ['fuchsia'], zoom=3, height=300 )\n",
    "\n",
    "mapa.update_layout(mapbox_style='open-street-map')\n",
    "\n",
    "mapa.update_layout(height=900, margin={'r':0, 't':0, 'l':0, 'b':0})\n",
    "\n",
    "\n",
    "\n",
    "mapa.write_html('map_house.html')\n"
   ]
  }
 ],
 "metadata": {
  "kernelspec": {
   "display_name": "Python 3",
   "language": "python",
   "name": "python3"
  },
  "language_info": {
   "codemirror_mode": {
    "name": "ipython",
    "version": 3
   },
   "file_extension": ".py",
   "mimetype": "text/x-python",
   "name": "python",
   "nbconvert_exporter": "python",
   "pygments_lexer": "ipython3",
   "version": "3.10.11"
  },
  "orig_nbformat": 4
 },
 "nbformat": 4,
 "nbformat_minor": 2
}
