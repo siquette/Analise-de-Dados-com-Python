{
 "cells": [
  {
   "cell_type": "markdown",
   "metadata": {},
   "source": [
    "1. Qual o número de imóveis por ano de construção?\n",
    "2. Qual o menor número de quartos por ano de construção dos imóveis?\n",
    "3. Qual o preço de compra mais alto por cada número de quartos?\n",
    "4. Qual a soma de todos os preços de compra por cada número de quartos?\n",
    "5. Qual a soma de todos os preços de compra pelo número de quartos e banheiros?\n",
    "6. Qual o tamanho médio das salas dos imóveis por ano de construção?\n",
    "7. Qual o tamanho mediano das salas dos imóveis por ano de construção?\n",
    "8. Qual o desvio-padrão do tamanho das salas dos imóveis por ano de construção?\n",
    "9. Como é o crescimento médio preços de compra dos imóveis, por dia e semana do ano?\n",
    "10. Eu gostaria de olhar no mapa e conseguir identificar as casas com o maior preço."
   ]
  },
  {
   "cell_type": "code",
   "execution_count": 1,
   "metadata": {},
   "outputs": [],
   "source": [
    "import numpy  as np\n",
    "import pandas as pd\n",
    "import seaborn as sns"
   ]
  },
  {
   "cell_type": "code",
   "execution_count": 2,
   "metadata": {},
   "outputs": [],
   "source": [
    "data = pd.read_csv('/home/siquette/ds/Analise-de-Dados-com-Python/m2/archive/kc_house_data.csv')"
   ]
  },
  {
   "attachments": {},
   "cell_type": "markdown",
   "metadata": {},
   "source": [
    "1. Qual o número de imóveis por ano de construção?"
   ]
  },
  {
   "cell_type": "code",
   "execution_count": 14,
   "metadata": {},
   "outputs": [],
   "source": [
    "data[\"date\"] = pd.to_datetime(data[\"date\"])\n"
   ]
  },
  {
   "cell_type": "code",
   "execution_count": 17,
   "metadata": {},
   "outputs": [
    {
     "data": {
      "text/plain": [
       "date\n",
       "2014    14633\n",
       "2015     6980\n",
       "dtype: int64"
      ]
     },
     "execution_count": 17,
     "metadata": {},
     "output_type": "execute_result"
    }
   ],
   "source": [
    "data.groupby(data['date'].dt.year).size()"
   ]
  },
  {
   "attachments": {},
   "cell_type": "markdown",
   "metadata": {},
   "source": [
    "2. Qual o menor número de quartos por ano de construção dos imóveis?"
   ]
  },
  {
   "cell_type": "code",
   "execution_count": 24,
   "metadata": {},
   "outputs": [
    {
     "data": {
      "text/plain": [
       "date  bedrooms\n",
       "2014  0              9\n",
       "      1            138\n",
       "      2           1844\n",
       "      3           6612\n",
       "      4           4724\n",
       "      5           1081\n",
       "      6            176\n",
       "      7             30\n",
       "      8             11\n",
       "      9              3\n",
       "      10             3\n",
       "      11             1\n",
       "      33             1\n",
       "2015  0              4\n",
       "      1             61\n",
       "      2            916\n",
       "      3           3212\n",
       "      4           2158\n",
       "      5            520\n",
       "      6             96\n",
       "      7              8\n",
       "      8              2\n",
       "      9              3\n",
       "dtype: int64"
      ]
     },
     "execution_count": 24,
     "metadata": {},
     "output_type": "execute_result"
    }
   ],
   "source": [
    "data.groupby([data['date'].dt.year, 'bedrooms']).size()"
   ]
  },
  {
   "attachments": {},
   "cell_type": "markdown",
   "metadata": {},
   "source": [
    "3. Qual o preço de compra mais alto por cada número de quartos?"
   ]
  },
  {
   "cell_type": "code",
   "execution_count": null,
   "metadata": {},
   "outputs": [],
   "source": []
  },
  {
   "cell_type": "code",
   "execution_count": 15,
   "metadata": {},
   "outputs": [
    {
     "name": "stdout",
     "output_type": "stream",
     "text": [
      "id                        int64\n",
      "date             datetime64[ns]\n",
      "price                   float64\n",
      "bedrooms                  int64\n",
      "bathrooms               float64\n",
      "sqft_living               int64\n",
      "sqft_lot                  int64\n",
      "floors                  float64\n",
      "waterfront                int64\n",
      "view                      int64\n",
      "condition                 int64\n",
      "grade                     int64\n",
      "sqft_above                int64\n",
      "sqft_basement             int64\n",
      "yr_built                  int64\n",
      "yr_renovated              int64\n",
      "zipcode                   int64\n",
      "lat                     float64\n",
      "long                    float64\n",
      "sqft_living15             int64\n",
      "sqft_lot15                int64\n",
      "dtype: object\n"
     ]
    }
   ],
   "source": [
    "print( data.dtypes)"
   ]
  }
 ],
 "metadata": {
  "kernelspec": {
   "display_name": "ri",
   "language": "python",
   "name": "python3"
  },
  "language_info": {
   "codemirror_mode": {
    "name": "ipython",
    "version": 3
   },
   "file_extension": ".py",
   "mimetype": "text/x-python",
   "name": "python",
   "nbconvert_exporter": "python",
   "pygments_lexer": "ipython3",
   "version": "3.10.11"
  },
  "orig_nbformat": 4
 },
 "nbformat": 4,
 "nbformat_minor": 2
}
