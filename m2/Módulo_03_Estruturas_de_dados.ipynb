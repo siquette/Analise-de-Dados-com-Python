{
 "cells": [
  {
   "cell_type": "markdown",
   "metadata": {},
   "source": [
    "1. Qual o número de imóveis por ano de construção?\n",
    "2. Qual o menor número de quartos por ano de construção dos imóveis?\n",
    "3. Qual o preço de compra mais alto por cada número de quartos?\n",
    "4. Qual a soma de todos os preços de compra por cada número de quartos?\n",
    "5. Qual a soma de todos os preços de compra pelo número de quartos e banheiros?\n",
    "6. Qual o tamanho médio das salas dos imóveis por ano de construção?\n",
    "7. Qual o tamanho mediano das salas dos imóveis por ano de construção?\n",
    "8. Qual o desvio-padrão do tamanho das salas dos imóveis por ano de construção?\n",
    "9. Como é o crescimento médio preços de compra dos imóveis, por dia e semana do ano?\n",
    "10. Eu gostaria de olhar no mapa e conseguir identificar as casas com o maior preço."
   ]
  }
 ],
 "metadata": {
  "language_info": {
   "name": "python"
  },
  "orig_nbformat": 4
 },
 "nbformat": 4,
 "nbformat_minor": 2
}
