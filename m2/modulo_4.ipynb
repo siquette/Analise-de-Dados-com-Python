{
 "cells": [
  {
   "cell_type": "code",
   "execution_count": 1,
   "metadata": {},
   "outputs": [],
   "source": [
    "import numpy  as np\n",
    "import pandas as pd\n",
    "import seaborn as sns"
   ]
  },
  {
   "attachments": {},
   "cell_type": "markdown",
   "metadata": {},
   "source": [
    "1. Qual a quantidade de imóveis por nível?\n",
    "- Nível 0 -> Preço entre R$ 0 e R$\n",
    "321.950\n",
    "- Nível 1 -> Preço entre R$ 321.950 e\n",
    "R$ 450.000\n",
    "- Nível 2 -> Preço entre R$ 450.000 e\n",
    "R$ 645.000\n",
    "- Nível 3 -> Acima de R$ 645.000\n",
    "\n",
    "2. Adicione as seguintes informações ao\n",
    "imóvel:\n",
    "- O nome da Rua\n",
    "- O número do Imóvel\n",
    "- O nome do Bairro\n",
    "- O nome da Cidade\n",
    "- O nome da Estado\n",
    "3. Adicionar o Nível dos imóveis no Mapa\n",
    "como uma Cor\n",
    "4. Adicionar o Preço dos imóveis como o\n",
    "tamanho do ponto no mapa\n",
    "5. Adicionar opções de filtros para eu fazer\n",
    "minhas próprias análises:\n",
    "1. Eu quero escolher visualizar\n",
    "imóveis com vista para água ou não.\n",
    "2. Eu quero filtrar os imóveis até\n",
    "um certo valor de preço.\n",
    "6. Adicionar opções de filtros no último\n",
    "dashboard enviado:\n",
    "1. Eu quero visualizar somente\n",
    "valor a partir de um data disponível para\n",
    "compra."
   ]
  }
 ],
 "metadata": {
  "kernelspec": {
   "display_name": "ro",
   "language": "python",
   "name": "python3"
  },
  "language_info": {
   "codemirror_mode": {
    "name": "ipython",
    "version": 3
   },
   "file_extension": ".py",
   "mimetype": "text/x-python",
   "name": "python",
   "nbconvert_exporter": "python",
   "pygments_lexer": "ipython3",
   "version": "3.10.11"
  },
  "orig_nbformat": 4
 },
 "nbformat": 4,
 "nbformat_minor": 2
}
